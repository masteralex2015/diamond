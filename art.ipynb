{
  "nbformat": 4,
  "nbformat_minor": 0,
  "metadata": {
    "colab": {
      "name": "art.ipynb",
      "provenance": [],
      "collapsed_sections": [],
      "include_colab_link": true
    },
    "kernelspec": {
      "name": "python3",
      "display_name": "Python 3"
    },
    "language_info": {
      "name": "python"
    }
  },
  "cells": [
    {
      "cell_type": "markdown",
      "metadata": {
        "id": "view-in-github",
        "colab_type": "text"
      },
      "source": [
        "<a href=\"https://colab.research.google.com/github/masteralex2015/diamond/blob/main/art.ipynb\" target=\"_parent\"><img src=\"https://colab.research.google.com/assets/colab-badge.svg\" alt=\"Open In Colab\"/></a>"
      ]
    },
    {
      "cell_type": "code",
      "metadata": {
        "colab": {
          "base_uri": "https://localhost:8080/"
        },
        "id": "cTaiOxOwwdNk",
        "outputId": "e4f78a0c-aaeb-4324-8c7a-b6cc0f83c96b"
      },
      "source": [
        "num = int(input(\"Cik lielu gribi?: \"))\n",
        "\n",
        "for i in range(num):  \n",
        "  for j in range(num-i):\n",
        "    print(\" \", end=\"\")\n",
        "  for k in range(2*i):\n",
        "    print(\"*\", end=\"\")\n",
        "  \n",
        "  print(\"*\")"
      ],
      "execution_count": null,
      "outputs": [
        {
          "output_type": "stream",
          "text": [
            "Cik lielu gribi?: 5\n",
            "     *\n",
            "    ***\n",
            "   *****\n",
            "  *******\n",
            " *********\n"
          ],
          "name": "stdout"
        }
      ]
    },
    {
      "cell_type": "code",
      "metadata": {
        "colab": {
          "base_uri": "https://localhost:8080/"
        },
        "id": "lxx49N6V3V-O",
        "outputId": "4b6bc3f8-5238-49df-ace6-81c1a03bf78b"
      },
      "source": [
        "n = int(input(\"Cik lielu gribi?\"))\n",
        "print(\"Tik liels būs tavs dimants: \")\n",
        "for a1 in range(1, (n+1)//2 + 1):\n",
        "    for a2 in range((n+1)//2 - a1):\n",
        "        print(\" \", end = \"\")\n",
        "    for a3 in range((a1*2)-1):\n",
        "        print(\"*\", end = \"\")\n",
        "    print()\n",
        "\n",
        "for a1 in range((n+1)//2 + 1, n + 1):\n",
        "    for a2 in range(a1 - (n+1)//2):\n",
        "        print(\" \", end = \"\")\n",
        "    for a3 in range((n+1 - a1)*2 - 1):\n",
        "        print(\"*\", end = \"\")\n",
        "    print()"
      ],
      "execution_count": null,
      "outputs": [
        {
          "output_type": "stream",
          "text": [
            "Cik lielu gribi?10\n",
            "Tik liels būs tavs dimants: \n",
            "    *\n",
            "   ***\n",
            "  *****\n",
            " *******\n",
            "*********\n",
            " *********\n",
            "  *******\n",
            "   *****\n",
            "    ***\n",
            "     *\n"
          ],
          "name": "stdout"
        }
      ]
    },
    {
      "cell_type": "code",
      "metadata": {
        "colab": {
          "base_uri": "https://localhost:8080/"
        },
        "id": "tpFuSDVK4Slg",
        "outputId": "9fd740b5-390f-4a73-e042-f9929775a814"
      },
      "source": [
        "n = int(input(\"Cik lielu gribi savu dimantu? \"))\n",
        "\n",
        "print(\"Tagad vari apskatīt savu brīnumu\")\n",
        "\n",
        "for i in range(n):\n",
        "    print(' '*(n-i-1) + '* '*(i+1) )\n",
        "for i in range(n):\n",
        "    print(' '*(i+1) + '* '*(n-i-1))"
      ],
      "execution_count": null,
      "outputs": [
        {
          "output_type": "stream",
          "text": [
            "Cik lielu gribi savu dimantu? 10\n",
            "Tagad vari apskatī savu brīnumu\n",
            "         * \n",
            "        * * \n",
            "       * * * \n",
            "      * * * * \n",
            "     * * * * * \n",
            "    * * * * * * \n",
            "   * * * * * * * \n",
            "  * * * * * * * * \n",
            " * * * * * * * * * \n",
            "* * * * * * * * * * \n",
            " * * * * * * * * * \n",
            "  * * * * * * * * \n",
            "   * * * * * * * \n",
            "    * * * * * * \n",
            "     * * * * * \n",
            "      * * * * \n",
            "       * * * \n",
            "        * * \n",
            "         * \n",
            "          \n"
          ],
          "name": "stdout"
        }
      ]
    }
  ]
}